{
 "cells": [
  {
   "cell_type": "code",
   "execution_count": null,
   "metadata": {},
   "outputs": [],
   "source": [
    "#模型（Model）\n",
    "1.在 PyTorch 中的 model 是用從 PyTorch Module 繼承來的 ,用Python class 表示的\n",
    "2.__init__(self)：定義了模型的組成。在我們的例子中，是參數a, b。當然我們也能定義一些參數之外的東西，像是層數之類的。\n",
    "3.forward(self, x)：執行計算，就是讓資料通過參數來得到現在的預測，不過使用的時候不是呼叫 forward() ，而是呼叫 model 本身，他就會輸出預測了。"
   ]
  },
  {
   "cell_type": "code",
   "execution_count": null,
   "metadata": {},
   "outputs": [],
   "source": [
    "## import nn\n",
    "from torch import nn\n",
    "class PyTorchLinearRegression(nn.Module):\n",
    "    def __init__(self):\n",
    "        super().__init__()\n",
    "        # 使用 nn.Parameter 來表示 a, b 為參數\n",
    "        self.a = nn.Parameter(torch.randn(1, requires_grad=True))\n",
    "        self.b = nn.Parameter(torch.randn(1, requires_grad=True))\n",
    "        \n",
    "    def forward(self, x):\n",
    "        # 計算我們的輸出，也就是預測\n",
    "        return self.a + self.b * x"
   ]
  },
  {
   "cell_type": "code",
   "execution_count": null,
   "metadata": {},
   "outputs": [],
   "source": [
    "from torch import optim\n",
    "from torch import nn\n",
    "\n",
    "torch.manual_seed(7)\n",
    "model = PyTorchLinearRegression()#.to(device)\n",
    "\n",
    "print(model.state_dict())\n",
    "\n",
    "lr = 1e-1\n",
    "epochs = 500\n",
    "MSELoss = nn.MSELoss()\n",
    "optimizer = optim.SGD(model.parameters(), lr=lr)\n",
    "for epoch in range(epochs):\n",
    "    \n",
    "#-----------------------------------------    \n",
    "    model.train() ##!!!!\n",
    "    \n",
    "    # 不用再手動做 output 了\n",
    "    # yhat = a + b * x_tensor\n",
    "    yhat = model(x_train_tensor)\n",
    "#-----------------------------------------\n",
    "\n",
    "    loss = MSELoss(y_train_tensor, yhat)\n",
    "    loss.backward()    \n",
    "    optimizer.step()\n",
    "    optimizer.zero_grad()\n",
    "    \n",
    "print(model.state_dict())"
   ]
  }
 ],
 "metadata": {
  "kernelspec": {
   "display_name": "Python 3",
   "language": "python",
   "name": "python3"
  },
  "language_info": {
   "codemirror_mode": {
    "name": "ipython",
    "version": 3
   },
   "file_extension": ".py",
   "mimetype": "text/x-python",
   "name": "python",
   "nbconvert_exporter": "python",
   "pygments_lexer": "ipython3",
   "version": "3.8.3"
  }
 },
 "nbformat": 4,
 "nbformat_minor": 4
}
