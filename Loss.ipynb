{
 "cells": [
  {
   "cell_type": "code",
   "execution_count": null,
   "metadata": {},
   "outputs": [],
   "source": [
    "#Loss\n",
    "我們一開始提到的 MSE 只是其中一種 loss function，像在分類問題，cross entropy 就是比較常見的 loss function。\n",
    "接下來示範如何在 PyTorch 中選擇 loss function。"
   ]
  },
  {
   "cell_type": "code",
   "execution_count": null,
   "metadata": {},
   "outputs": [],
   "source": [
    "## import nn\n",
    "from torch import nn\n",
    "\n",
    "torch.manual_seed(7)\n",
    "a = torch.randn(1, requires_grad=True)\n",
    "b = torch.randn(1, requires_grad=True)\n",
    "print(a, b)\n",
    "lr = 1e-1\n",
    "epochs = 500\n",
    "\n",
    "# 指定一個 loss function\n",
    "MSELoss = nn.MSELoss(reduction='mean')\n",
    "\n",
    "\n",
    "optimizer = optim.SGD([a, b], lr=lr)\n",
    "for epoch in range(epochs):\n",
    "    yhat = a + b * x_train_tensor\n",
    "\n",
    "#-----------------------------------------\n",
    "    \n",
    "    # 不用再自己算 loss 了\n",
    "    # error = y_tensor - yhat\n",
    "    # loss = (error ** 2).mean()\n",
    "    loss = MSELoss(y_train_tensor, yhat)\n",
    "\n",
    "#-----------------------------------------\n",
    "    \n",
    "    # 不用再自己計算梯度了 \n",
    "    # a_grad = -2 * error.mean()\n",
    "    # b_grad = -2 * (x_tensor * error).mean()\n",
    "    # 從 loss 做 backward 來幫我們取得梯度\n",
    "    loss.backward()    \n",
    "    \n",
    "    # 不用手動更新梯度\n",
    "    # a -= lr * a.grad\n",
    "    # b -= lr * b.grad\n",
    "    optimizer.step()\n",
    "    \n",
    "    # 不用自己將梯度清零\n",
    "    # a.grad.zero_()\n",
    "    # b.grad.zero_()\n",
    "    optimizer.zero_grad()\n",
    "    \n",
    "print(a, b)"
   ]
  }
 ],
 "metadata": {
  "kernelspec": {
   "display_name": "Python 3",
   "language": "python",
   "name": "python3"
  },
  "language_info": {
   "codemirror_mode": {
    "name": "ipython",
    "version": 3
   },
   "file_extension": ".py",
   "mimetype": "text/x-python",
   "name": "python",
   "nbconvert_exporter": "python",
   "pygments_lexer": "ipython3",
   "version": "3.8.3"
  }
 },
 "nbformat": 4,
 "nbformat_minor": 4
}
