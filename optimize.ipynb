{
 "cells": [
  {
   "cell_type": "code",
   "execution_count": null,
   "metadata": {},
   "outputs": [],
   "source": [
    "# 優化器（Optimizer）\n",
    "目前為止我們都是利用梯度，手動地來更新參數。更新兩個可能不是什麼大問題，但是在實務上我們可能會有幾萬甚至幾億個參數需要更新，這時候我們就需要優化器了（Optimizer）\n",
    "step() :　做參數更新\n",
    "zero_grad() : 梯度清為零"
   ]
  },
  {
   "cell_type": "code",
   "execution_count": null,
   "metadata": {},
   "outputs": [],
   "source": [
    "##import optim\n",
    "from torch import optim\n",
    "\n",
    "torch.manual_seed(7)\n",
    "a = torch.randn(1, requires_grad=True)\n",
    "b = torch.randn(1, requires_grad=True)\n",
    "print(a, b)\n",
    "lr = 1e-1\n",
    "epochs = 500\n",
    "\n",
    "# 指定我們的優化器為 SGD\n",
    "optimizer = optim.SGD([a, b], lr=lr)\n",
    "\n",
    "\n",
    "for epoch in range(epochs):\n",
    "    yhat = a + b * x_train_tensor\n",
    "    error = y_train_tensor - yhat\n",
    "    loss = (error ** 2).mean()\n",
    "    \n",
    "    \n",
    "    # 不用再自己計算梯度了 \n",
    "    # a_grad = -2 * error.mean()\n",
    "    # b_grad = -2 * (x_tensor * error).mean()\n",
    "    # 從 loss 做 backward 來幫我們取得梯度\n",
    "    loss.backward()    \n",
    "    \n",
    "#-----------------------------------------    \n",
    "    # 不用手動更新梯度\n",
    "    # a -= lr * a.grad\n",
    "    # b -= lr * b.grad\n",
    "    optimizer.step()\n",
    "    \n",
    "    # 不用自己將梯度清零\n",
    "    # a.grad.zero_()\n",
    "    # b.grad.zero_()\n",
    "    optimizer.zero_grad()\n",
    "#-----------------------------------------\n",
    "\n",
    "    \n",
    "print(a, b)"
   ]
  }
 ],
 "metadata": {
  "kernelspec": {
   "display_name": "Python 3",
   "language": "python",
   "name": "python3"
  },
  "language_info": {
   "codemirror_mode": {
    "name": "ipython",
    "version": 3
   },
   "file_extension": ".py",
   "mimetype": "text/x-python",
   "name": "python",
   "nbconvert_exporter": "python",
   "pygments_lexer": "ipython3",
   "version": "3.8.3"
  }
 },
 "nbformat": 4,
 "nbformat_minor": 4
}
