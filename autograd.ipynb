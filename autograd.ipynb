{
 "cells": [
  {
   "cell_type": "code",
   "execution_count": null,
   "metadata": {},
   "outputs": [],
   "source": [
    "# Autograd\n",
    "backward() : 算各參數梯度"
   ]
  },
  {
   "cell_type": "code",
   "execution_count": null,
   "metadata": {},
   "outputs": [],
   "source": [
    "lr = 1e-1\n",
    "epochs = 500\n",
    "torch.manual_seed(42)\n",
    "a = torch.randn(1, requires_grad=True, device=device)\n",
    "b = torch.randn(1, requires_grad=True, device=device)\n",
    "for epoch in range(epochs):\n",
    "    yhat = a + b * x_train_tensor\n",
    "    error = y_train_tensor - yhat\n",
    "    loss = (error ** 2).mean()\n",
    "\n",
    "    \n",
    "#-----------------------------------------   \n",
    "\n",
    "    # 不用再自己計算梯度了 \n",
    "    # a_grad = -2 * error.mean()\n",
    "    # b_grad = -2 * (x_tensor * error).mean()\n",
    "    \n",
    "    # 從 loss 做 backward 來幫我們取得梯度\n",
    "    loss.backward()       \n",
    "#-----------------------------------------\n",
    "\n",
    "    \n",
    "    \n",
    "    with torch.no_grad():\n",
    "        a -= lr * a.grad\n",
    "        b -= lr * b.grad\n",
    "    print(a.grad)\n",
    "    \n",
    "    \n",
    "    # 清除梯度\n",
    "    a.grad.zero_()       \n",
    "    b.grad.zero_()       \n",
    "    \n",
    "print(a, b)"
   ]
  },
  {
   "cell_type": "code",
   "execution_count": null,
   "metadata": {},
   "outputs": [],
   "source": [
    "1..backward():\n",
    "    可以得出 各參數的grad e.g: a_grad、b_grad\n",
    "2.梯度累加:\n",
    "    在 PyTorch 中，梯度會不斷往上加而不是替換掉，但是累加梯度的話會讓我們每次的梯度有偏差而影響方向，所以每次我們要用梯度去更新參數之後，需要用 zero_() 將梯度清零，那你一定會好奇為何不直接替代就好，因為在訓練 RNN 模型時，累積梯度就很方便。\n",
    "3.with torch.no_grad():\n",
    "不用，梯度就會消失， .grad 就會變成 NoneType \n",
    "torch.no_grad() impacts the autograd engine and deactivate it. It will reduce memory usage and speed up computations but you won’t be able to backprop (which you don’t want in an eval script).\n"
   ]
  },
  {
   "cell_type": "code",
   "execution_count": null,
   "metadata": {},
   "outputs": [],
   "source": []
  }
 ],
 "metadata": {
  "kernelspec": {
   "display_name": "Python 3",
   "language": "python",
   "name": "python3"
  },
  "language_info": {
   "codemirror_mode": {
    "name": "ipython",
    "version": 3
   },
   "file_extension": ".py",
   "mimetype": "text/x-python",
   "name": "python",
   "nbconvert_exporter": "python",
   "pygments_lexer": "ipython3",
   "version": "3.8.3"
  }
 },
 "nbformat": 4,
 "nbformat_minor": 4
}
