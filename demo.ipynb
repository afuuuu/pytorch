{
 "cells": [
  {
   "cell_type": "code",
   "execution_count": 1,
   "metadata": {},
   "outputs": [],
   "source": [
    "import numpy as np\n",
    "from matplotlib import pyplot as plt\n",
    "np.random.seed(7) # 用來確保每次生成的隨機資料是一樣的，否則訓練結果無法比較\n",
    "x = np.random.rand(100, 1) ##vs. np.random.randn #一維陣列\n",
    "\n",
    "y = 2 + 5 * x + .2 * np.random.randn(100, 1) # randn 的 n 為 normal distribution\n",
    "\n",
    "idx = np.arange(100)\n",
    "np.random.shuffle(idx) # 打散索引\n",
    "\n",
    "train_idx = idx[:80] # 取前 80 筆為訓練資料\n",
    "val_idx = idx[80:] #取後 20 筆為驗證資料\n",
    "\n",
    "x_train, y_train = x[train_idx], y[train_idx]\n",
    "x_val, y_val = x[val_idx], y[val_idx]\n"
   ]
  },
  {
   "cell_type": "code",
   "execution_count": 2,
   "metadata": {},
   "outputs": [],
   "source": [
    "import torch\n",
    "device = 'cuda' if torch.cuda.is_available() else 'cpu'\n",
    "\n",
    "x_train_tensor = torch.from_numpy(x_train).to(device)\n",
    "y_train_tensor = torch.from_numpy(y_train).to(device)\n",
    "\n",
    "\n",
    "from torch import nn\n",
    "class PyTorchLinearRegression(nn.Module):\n",
    "    def __init__(self):\n",
    "        super().__init__()\n",
    "        # 使用 nn.Parameter 來表示 a, b 為參數\n",
    "        self.a = nn.Parameter(torch.randn(1, requires_grad=True))\n",
    "        self.b = nn.Parameter(torch.randn(1, requires_grad=True))\n",
    "        \n",
    "    def forward(self, x):\n",
    "        # 計算我們的輸出，也就是預測\n",
    "        return self.a + self.b * x"
   ]
  },
  {
   "cell_type": "code",
   "execution_count": 3,
   "metadata": {},
   "outputs": [
    {
     "name": "stdout",
     "output_type": "stream",
     "text": [
      "OrderedDict([('a', tensor([-0.1468])), ('b', tensor([0.7861]))])\n",
      "OrderedDict([('a', tensor([1.9521])), ('b', tensor([5.0924]))])\n"
     ]
    }
   ],
   "source": [
    "from torch import optim\n",
    "from torch import nn\n",
    "\n",
    "torch.manual_seed(7)\n",
    "model = PyTorchLinearRegression()#.to(device)\n",
    "\n",
    "print(model.state_dict())\n",
    "\n",
    "lr = 1e-1\n",
    "epochs = 500\n",
    "MSELoss = nn.MSELoss()\n",
    "optimizer = optim.SGD(model.parameters(), lr=lr)\n",
    "for epoch in range(epochs):\n",
    "#-----------------------------------------    \n",
    "    model.train() ##!!!!\n",
    "    \n",
    "    # 不用再手動做 output 了\n",
    "    # yhat = a + b * x_tensor\n",
    "    yhat = model(x_train_tensor)\n",
    "#-----------------------------------------\n",
    "\n",
    "    loss = MSELoss(y_train_tensor, yhat)\n",
    "    loss.backward()    \n",
    "    optimizer.step()\n",
    "    optimizer.zero_grad()\n",
    "    \n",
    "print(model.state_dict())"
   ]
  },
  {
   "cell_type": "code",
   "execution_count": null,
   "metadata": {},
   "outputs": [],
   "source": []
  }
 ],
 "metadata": {
  "kernelspec": {
   "display_name": "Python 3",
   "language": "python",
   "name": "python3"
  },
  "language_info": {
   "codemirror_mode": {
    "name": "ipython",
    "version": 3
   },
   "file_extension": ".py",
   "mimetype": "text/x-python",
   "name": "python",
   "nbconvert_exporter": "python",
   "pygments_lexer": "ipython3",
   "version": "3.8.3"
  }
 },
 "nbformat": 4,
 "nbformat_minor": 4
}
